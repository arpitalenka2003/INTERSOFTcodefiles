{
 "cells": [
  {
   "cell_type": "code",
   "execution_count": 1,
   "id": "c04e1c31",
   "metadata": {},
   "outputs": [],
   "source": [
    "#Importing all the  built-in libraries\n",
    "import os\n",
    "import time\n",
    "import subprocess\n",
    "import json"
   ]
  },
  {
   "cell_type": "code",
   "execution_count": 2,
   "id": "72de9241",
   "metadata": {},
   "outputs": [],
   "source": [
    "#Importing all the libraries installed from the anaconda promt\n",
    "import wolframalpha\n",
    "import requests\n",
    "import webbrowser\n",
    "import wikipedia\n",
    "import datetime"
   ]
  },
  {
   "cell_type": "code",
   "execution_count": 3,
   "id": "6ae045f3",
   "metadata": {},
   "outputs": [],
   "source": [
    "#Importing for natural language processing and speach to text conversion\n",
    "import speech_recognition as sr\n",
    "import pyttsx3"
   ]
  },
  {
   "cell_type": "code",
   "execution_count": 4,
   "id": "d4506e30",
   "metadata": {},
   "outputs": [
    {
     "name": "stdout",
     "output_type": "stream",
     "text": [
      "LOADING YOUR PERSONAL ASSISTANT JARVIS\n"
     ]
    }
   ],
   "source": [
    "print ('LOADING YOUR PERSONAL ASSISTANT JARVIS')"
   ]
  },
  {
   "cell_type": "code",
   "execution_count": 5,
   "id": "ff82b99c",
   "metadata": {},
   "outputs": [],
   "source": [
    "#initiating your pyttsx3 engine with speech systhesizer\n",
    "engine = pyttsx3.init('sapi5')\n",
    "voices=engine.getProperty('voices')\n",
    "engine.setProperty(\"voice\",'voices[0].id')\n",
    "#voices[0]is for a male voice, can use voices[1] for a female voices\n"
   ]
  },
  {
   "cell_type": "code",
   "execution_count": 6,
   "id": "497d6520",
   "metadata": {},
   "outputs": [],
   "source": [
    "#Defining a function for speaking a sentence\n",
    "def speak(text):\n",
    "    engine.say(text)\n",
    "    engine.runAndWait()"
   ]
  },
  {
   "cell_type": "code",
   "execution_count": 7,
   "id": "b70a3e19",
   "metadata": {},
   "outputs": [],
   "source": [
    "#Function to greet a human\n",
    "def wishMe():\n",
    "    hour = datetime.datetime.now().hour#calls system time and place it into hour\n",
    "    if hour >= 0 and hour<12:\n",
    "        speak(\"Hello,Good Morning Miss Arpita\")\n",
    "        print(\"Hello,Good Morning Miss Arpita\")\n",
    "    elif hour >=12 and hour<=18:\n",
    "        speak(\"Hello, Good Afternoon Miss Arpita\")\n",
    "        print(\"Hello, Good Afternoon Miss Arpita\")\n",
    "    else:\n",
    "        speak(\"Its already  night, time to sleep\")\n",
    "        print(\"Its already  night, time to sleep\")\n",
    "    "
   ]
  },
  {
   "cell_type": "code",
   "execution_count": 8,
   "id": "b72ffca8",
   "metadata": {},
   "outputs": [],
   "source": [
    "#Function used to take command as statement from the voice of a human\n",
    "def takeCommand():\n",
    "    r = sr.Recognizer()\n",
    "    with sr.Microphone() as source:\n",
    "        print(\"I AM LISTNING \")\n",
    "        audio = r.listen(source)\n",
    "        try:\n",
    "            statement = r.recognize_google(audio,language='en_in')\n",
    "            print(f\"user said:{statement}\\n\")\n",
    "        except Exception as e:\n",
    "            speak(\"pardon me , please say that again\")\n",
    "            return \"None\"\n",
    "        return statement\n",
    "    \n",
    "    "
   ]
  },
  {
   "cell_type": "code",
   "execution_count": 9,
   "id": "48cf874f",
   "metadata": {},
   "outputs": [
    {
     "name": "stdout",
     "output_type": "stream",
     "text": [
      "Its already  night, time to sleep\n"
     ]
    }
   ],
   "source": [
    "speak(\"LOADING YOUR PERSONAL AI ASSISTANT  \")\n",
    "wishMe()"
   ]
  },
  {
   "cell_type": "code",
   "execution_count": null,
   "id": "317ba5ca",
   "metadata": {},
   "outputs": [
    {
     "name": "stdout",
     "output_type": "stream",
     "text": [
      "I AM LISTNING \n",
      "I AM LISTNING \n"
     ]
    }
   ],
   "source": [
    "#A simplified main function\n",
    "#add your code block here to upgrade this personal assistant\n",
    "if __name__ =='__main__':\n",
    "    while True:\n",
    "        speak(\"how can I help you ?\")\n",
    "        statement = takeCommand().lower()\n",
    "        if statement ==0:\n",
    "            continue\n",
    "        if \"Good bye \"in statement or \"ok bye\" in statement or \"stop\" in statement :\n",
    "            speak(\"Your personal assistant is shutting down,Good bye\")\n",
    "            print(\"Your personal assistant is shutting down,Good bye\")\n",
    "            break\n",
    "        if \"wikipedia\" in statement:\n",
    "            speak(\"searching wikipedia\")\n",
    "            statement = statement.replace('wikipedia',\"\")\n",
    "            results=wikipedia.summary(statement,sentence=3)\n",
    "            speak(\"According to wikipedia\")\n",
    "            print(results)\n",
    "            speak(results)\n",
    "        elif \"open youtube\" in statement:\n",
    "            webbrowser.open_new_tab(\"https://www.youtube.com\")\n",
    "            speak(\"You Tube is open for you\")\n",
    "            time.sleep(5)\n",
    "        elif \"open google\" in statement :\n",
    "            webbrowser.open_new_tab(\"https://www.google.com\")\n",
    "            speak(\"Google search is open for you\")\n",
    "            time.sleep(5)\n",
    "        elif \"open gmail\" in statement:\n",
    "            webbrowser.open_new_tab(\"gmail.com\")\n",
    "            speak(\"your email is open for you\")\n",
    "            time.sleep(5)\n",
    "        elif \"weather\" in statement:\n",
    "            api_key='8ef61edcf1c576d65d836254e11ea420'\n",
    "            base_url='https://api.openweathermap.org/data/2.5/weather?'\n",
    "            speak(\"whats the city name\")\n",
    "            city_name=takeCommand()\n",
    "            complete_url=base-url+\"appid = \"+api_key+\"&q\"+city_name\n",
    "            response=request.get(complte_url)\n",
    "            x= respond.json()#used to read the input\n",
    "            if x[\"cod\"]!=\"404\":\n",
    "                y=x['main']\n",
    "                current_temperature=y[\"temp\"]\n",
    "                current_humidity=y[\"humidity\"]\n",
    "                z=x['weather']\n",
    "                weather_descpription = z[0][\"descpription\"]\n",
    "                speak(\"the temperature is kelvin unit is \"+str(current_temprature)+\"\\n humidity in percentage is\"+str(current_humudity)+\"\\n weather description\"+str(weather-description))\n",
    "                print(\"the temperature is kelvin unit is \"+str(current_temprature)+\"\\n humidity in percentage is\"+str(current_humudity)+\"\\n weather description\"+str(weather-description))\n",
    "            else:\n",
    "                speak(\"city not found\")\n",
    "                print('city not found')\n",
    "        elif \"time\" in statement:\n",
    "            strtime=datetime.datetime.now().strftime(\"%H:%M:%S\")\n",
    "            speak(f\"the time is {strTime}\")\n",
    "        elif \" who are you \" in statement or \"what can you do\" in statement:\n",
    "            speak(\"I am your personal AI assistant.I am progrmmed for minor tasks like opening youtube,goggle.chrome,gmail and stack overflow,predict time,take photo,search wikipedia etc.\")\n",
    "        elif \"who made you\" in statement or \"who created you\" in statement or 'who discovered you' in statement:\n",
    "            speak(\"i was built by arpita from airobosoft\")\n",
    "            print(\"i was built by arpita from airobosoft\")\n",
    "        \n",
    "        elif \"open stack overflow\" in statement:\n",
    "            webbrowser.open_new_tab(\"https://satckoverflow.com/login\")\n",
    "            time.sleep(5)\n",
    "        elif \"news\" in statement:\n",
    "            news = webbrowser.open_new_tab(\"https://timesofindia.indiatimes.com/home/headlines\")\n",
    "            speak(\"here are some headlines for you from times of india\")\n",
    "            time.sleep(7)\n",
    "        elif \"search\" in statement:\n",
    "            statement = statement.replace(\"search\",\"\")\n",
    "            webbrowser_new_tab(\"statement\")\n",
    "            time.sleep(5)\n",
    "        elif \"ask\" in statement:\n",
    "            speak(\"I can answer to computation and geographical question too just try.What do you want to ask?\")\n",
    "            question = takeCommand()\n",
    "            app_id=\"R2K75H-7ELALHR35X\"\n",
    "            client = wolframalpha.Client(\"R2K75H-7ELALHR35X\")\n",
    "            res = client.query(question)\n",
    "            answer = next(res.results).text\n",
    "            speak(answer)\n",
    "            print(answer)\n",
    "        elif \"log off\" in statement or \"sign out\" in statement or \"shut down\" in statement:\n",
    "            speak(\"ok,your PC will shut down in 10 seconds, make sure you have saved and exited from all apllication\")\n",
    "            subprocess.call(['shutdown',\"/1\"])\n",
    "time.sleep(3)\n",
    "            \n",
    "\n",
    "        "
   ]
  },
  {
   "cell_type": "code",
   "execution_count": null,
   "id": "c9f2be83",
   "metadata": {},
   "outputs": [],
   "source": []
  }
 ],
 "metadata": {
  "kernelspec": {
   "display_name": "Python 3 (ipykernel)",
   "language": "python",
   "name": "python3"
  },
  "language_info": {
   "codemirror_mode": {
    "name": "ipython",
    "version": 3
   },
   "file_extension": ".py",
   "mimetype": "text/x-python",
   "name": "python",
   "nbconvert_exporter": "python",
   "pygments_lexer": "ipython3",
   "version": "3.11.4"
  }
 },
 "nbformat": 4,
 "nbformat_minor": 5
}
